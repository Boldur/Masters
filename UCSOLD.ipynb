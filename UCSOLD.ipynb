{
  "nbformat": 4,
  "nbformat_minor": 0,
  "metadata": {
    "colab": {
      "provenance": []
    },
    "kernelspec": {
      "name": "python3",
      "display_name": "Python 3"
    },
    "language_info": {
      "name": "python"
    }
  },
  "cells": [
    {
      "cell_type": "code",
      "execution_count": 1,
      "metadata": {
        "id": "DrWSJfsFTYcH"
      },
      "outputs": [],
      "source": [
        "import math\n",
        "from queue import PriorityQueue\n",
        "\n",
        "class Node:\n",
        "    def __init__(self, state, cost, parent=None):\n",
        "        self.state = state  # Tuple (x, y)\n",
        "        self.cost = cost\n",
        "        self.parent = parent\n",
        "\n",
        "    def __lt__(self, other):\n",
        "        return self.cost < other.cost\n",
        "\n",
        "def ufs(map, start, goal, include_diagonal_movement):\n",
        "    diagonal_cost = math.sqrt(2)\n",
        "    open_set = PriorityQueue()\n",
        "    open_set.put((0, Node(start, 0, None)))\n",
        "    visited = set()\n",
        "    path = []\n",
        "    updated_map = [row[:] for row in map]  # Copy the map to update it\n",
        "\n",
        "    while not open_set.empty():\n",
        "        current_cost, current_node = open_set.get()\n",
        "\n",
        "        if current_node.state in visited:\n",
        "            continue\n",
        "        visited.add(current_node.state)\n",
        "\n",
        "        x, y = current_node.state\n",
        "\n",
        "        if map[x][y] != 1 and map[x][y] != 2:  # Mark visited nodes\n",
        "            updated_map[x][y] = 3\n",
        "\n",
        "        if current_node.state == goal:  # Goal reached\n",
        "            node_path = current_node\n",
        "            while node_path:\n",
        "                path.insert(0, node_path)\n",
        "                x, y = node_path.state\n",
        "                if map[x][y] != 1 and map[x][y] != 2:\n",
        "                    updated_map[x][y] = 4\n",
        "                node_path = node_path.parent\n",
        "            return path\n",
        "\n",
        "        # Define movement directions\n",
        "        directions = [\n",
        "            (-1, 0),  # up\n",
        "            (0, 1),   # right\n",
        "            (1, 0),   # down\n",
        "            (0, -1)   # left\n",
        "        ]\n",
        "\n",
        "        if include_diagonal_movement:\n",
        "            directions += [\n",
        "                (-1, 1),   # up-right\n",
        "                (1, 1),    # down-right\n",
        "                (1, -1),   # down-left\n",
        "                (-1, -1)   # up-left\n",
        "            ]\n",
        "\n",
        "        for dx, dy in directions:\n",
        "            nx, ny = x + dx, y + dy\n",
        "            if 0 <= nx < len(map) and 0 <= ny < len(map[0]) and (nx, ny) not in visited:\n",
        "                if map[nx][ny] == 0 or map[nx][ny] == 2:  # Check if walkable\n",
        "                    visited.add((nx, ny))\n",
        "                    move_cost = diagonal_cost if abs(dx) + abs(dy) == 2 else 1\n",
        "                    new_cost = current_node.cost + move_cost\n",
        "                    next_node = Node((nx, ny), new_cost, current_node)\n",
        "                    open_set.put((new_cost, next_node))\n",
        "                    updated_map[nx][ny] = 5  # Mark as in open set\n",
        "\n",
        "    return None"
      ]
    }
  ]
}
