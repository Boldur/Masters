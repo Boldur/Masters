{
  "nbformat": 4,
  "nbformat_minor": 0,
  "metadata": {
    "colab": {
      "provenance": []
    },
    "kernelspec": {
      "name": "python3",
      "display_name": "Python 3"
    },
    "language_info": {
      "name": "python"
    }
  },
  "cells": [
    {
      "cell_type": "code",
      "execution_count": null,
      "metadata": {
        "id": "DrWSJfsFTYcH"
      },
      "outputs": [],
      "source": [
        "import heapq\n",
        "import math\n",
        "\n",
        "def ucs_tree_search(map, start, goal, include_diagonal_movement):\n",
        "    diagonal_cost = math.sqrt(2)\n",
        "    # Priority queue: (cost, (x, y), path)\n",
        "    open_set = []\n",
        "    heapq.heappush(open_set, (0, start, []))  # (cost, state, path)\n",
        "    updated_map = [row[:] for row in map]  # Copy the map to update it\n",
        "\n",
        "    while open_set:\n",
        "        # Get the node with the lowest cost\n",
        "        cost, current, path = heapq.heappop(open_set)\n",
        "        x, y = current\n",
        "\n",
        "        # Mark visited on visualization map\n",
        "        if map[x][y] != 1 and map[x][y] != 2:\n",
        "            updated_map[x][y] = 3  # Mark as visited\n",
        "\n",
        "        # Goal check\n",
        "        if current == goal:\n",
        "            path.append(current)  # Add goal to path\n",
        "            for px, py in path:\n",
        "                if map[px][py] != 1 and map[px][py] != 2:\n",
        "                    updated_map[px][py] = 4  # Mark final path\n",
        "            return path, updated_map\n",
        "\n",
        "        # Define movement directions\n",
        "        directions = [\n",
        "            (-1, 0),  # up\n",
        "            (0, 1),   # right\n",
        "            (1, 0),   # down\n",
        "            (0, -1)   # left\n",
        "        ]\n",
        "\n",
        "        if include_diagonal_movement:\n",
        "            directions += [\n",
        "                (-1, 1),   # up-right\n",
        "                (1, 1),    # down-right\n",
        "                (1, -1),   # down-left\n",
        "                (-1, -1)   # up-left\n",
        "            ]\n",
        "\n",
        "        # Explore neighbors\n",
        "        for dx, dy in directions:\n",
        "            nx, ny = x + dx, y + dy\n",
        "            if 0 <= nx < len(map) and 0 <= ny < len(map[0]):  # Stay within bounds\n",
        "                if map[nx][ny] == 0 or map[nx][ny] == 2:  # Walkable or goal\n",
        "                    move_cost = diagonal_cost if abs(dx) + abs(dy) == 2 else 1\n",
        "                    heapq.heappush(open_set, (cost + move_cost, (nx, ny), path + [current]))\n",
        "                    updated_map[nx][ny] = 5  # Mark as in open set\n",
        "\n",
        "    return None, updated_map  # No path found"
      ]
    }
  ]
}