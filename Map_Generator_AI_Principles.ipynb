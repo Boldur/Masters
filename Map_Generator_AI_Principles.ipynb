{
  "nbformat": 4,
  "nbformat_minor": 0,
  "metadata": {
    "colab": {
      "provenance": [],
      "authorship_tag": "ABX9TyO2tCYLROK9M2rPOi2WQ1Qe",
      "include_colab_link": true
    },
    "kernelspec": {
      "name": "python3",
      "display_name": "Python 3"
    },
    "language_info": {
      "name": "python"
    }
  },
  "cells": [
    {
      "cell_type": "markdown",
      "metadata": {
        "id": "view-in-github",
        "colab_type": "text"
      },
      "source": [
        "<a href=\"https://colab.research.google.com/github/Boldur/Masters/blob/main/Map_Generator_AI_Principles.ipynb\" target=\"_parent\"><img src=\"https://colab.research.google.com/assets/colab-badge.svg\" alt=\"Open In Colab\"/></a>"
      ]
    },
    {
      "cell_type": "code",
      "execution_count": null,
      "metadata": {
        "colab": {
          "base_uri": "https://localhost:8080/"
        },
        "id": "CPmeeWyTXt2q",
        "outputId": "2224f2ea-ae53-477f-8867-e3f6e0e46abe"
      },
      "outputs": [
        {
          "output_type": "stream",
          "name": "stdout",
          "text": [
            " 99  99  99  99  99  99  99  99  99  99  99  99  99  99  99  99\n",
            " 99   0   0   0   0   0   0   0  99  99   0   0   0   0   0  99\n",
            " 99   0   0   1   0   0   0   0   0   0  99   0   0   0  99  99\n",
            " 99   0   0   5  99   0   0  99   0   0  99   0   0   0   0  99\n",
            " 99   0   0   5   0   0  99   0  99   0   0   0   0   0   0  99\n",
            " 99   0  99   5  99  99   0   0   0   0   0   0   0   0   0  99\n",
            " 99   0  99   5   0   0   0   0   0   0  99   0   0  99   0  99\n",
            " 99   0  99   5   0   0  99   0   0   0   0   0   0   0   0  99\n",
            " 99   0  99   5   0   0   0   0   0   0   0   0  99  99   0  99\n",
            " 99   0   0   5   0   0   0   0   0   0   0   0   0   0   0  99\n",
            " 99   0   0   5  99   0   0   0   0  99   0   0   0   0   0  99\n",
            " 99  99   0   5   0   0  99   0   0   0   0   0   0   0  99  99\n",
            " 99   0   0   5   5   5   5   5   5   5   2   0   0   0   0  99\n",
            " 99   0   0  99   0   0   0   0  99   0  99   0   0   0  99  99\n",
            " 99  99   0   0   0   0   0   0   0   0   0  99   0  99   0  99\n",
            " 99  99  99  99  99  99  99  99  99  99  99  99  99  99  99  99\n"
          ]
        }
      ],
      "source": [
        "import random\n",
        "\n",
        "class Program:\n",
        "    def __init__(self):\n",
        "        self.map = []\n",
        "        self.MapSize = 0\n",
        "        self.ObstacleMultiplier = 2  # this will be multiplied by the map size\n",
        "\n",
        "    def create_map_with_path(self):\n",
        "        self.MapSize = random.randint(12, 16)\n",
        "        start = (0, 0)\n",
        "        goal = (0, 0)\n",
        "\n",
        "        self.map = [[0] * self.MapSize for _ in range(self.MapSize)]\n",
        "\n",
        "        self.set_walls()\n",
        "\n",
        "        # Define start and goal, ensuring they are not against the wall\n",
        "        while True:\n",
        "            start = (random.randint(0, self.MapSize // 3), random.randint(0, self.MapSize // 3))\n",
        "            if self.map[start[0]][start[1]] != 99:\n",
        "                break\n",
        "\n",
        "        while True:\n",
        "            row = random.randint((self.MapSize // 3) * 2, self.MapSize - 1)\n",
        "            col = random.randint((self.MapSize // 3) * 2, self.MapSize - 1)\n",
        "            goal = (row, col)\n",
        "            if self.map[goal[0]][goal[1]] != 99:\n",
        "                break\n",
        "\n",
        "        self.map[start[0]][start[1]] = 1\n",
        "        self.map[goal[0]][goal[1]] = 2\n",
        "\n",
        "        trail = self.create_trail(start, goal)\n",
        "\n",
        "        num_obstacles = self.MapSize * self.ObstacleMultiplier\n",
        "        self.place_obstacles(num_obstacles, trail)\n",
        "\n",
        "        self.display_map()\n",
        "\n",
        "    def place_obstacles(self, num_obstacles, trail):\n",
        "        trail_path = set(trail)\n",
        "        count = 0\n",
        "\n",
        "        while count < num_obstacles:\n",
        "            row = random.randint(0, self.MapSize - 1)\n",
        "            col = random.randint(0, self.MapSize - 1)\n",
        "\n",
        "            if (row, col) not in trail_path and self.map[row][col] == 0:\n",
        "                self.map[row][col] = 99\n",
        "                count += 1\n",
        "\n",
        "    def create_trail(self, start_point, goal):\n",
        "        c = goal[1] - 1\n",
        "        r = goal[0]\n",
        "        trail = []\n",
        "\n",
        "        # Move horizontally towards the start column\n",
        "        while c != start_point[1]:\n",
        "            self.map[goal[0]][c] = 5\n",
        "            trail.append((goal[0], c))\n",
        "            c += 1 if start_point[1] > c else -1\n",
        "\n",
        "        # Move vertically towards the start row\n",
        "        while r != start_point[0]:\n",
        "            self.map[r][c] = 5\n",
        "            trail.append((r, c))\n",
        "            r += 1 if start_point[0] > r else -1\n",
        "\n",
        "        return trail\n",
        "\n",
        "    def set_walls(self):\n",
        "        for i in range(self.MapSize):\n",
        "            for j in range(self.MapSize):\n",
        "                if i == 0 or i == self.MapSize - 1 or j == 0 or j == self.MapSize - 1:\n",
        "                    self.map[i][j] = 99\n",
        "\n",
        "    def display_map(self):\n",
        "        for row in self.map:\n",
        "            print(\" \".join(str(cell).rjust(3) for cell in row))\n",
        "\n",
        "# Run the program\n",
        "if __name__ == \"__main__\":\n",
        "    prg = Program()\n",
        "    prg.create_map_with_path()\n"
      ]
    },
    {
      "cell_type": "code",
      "source": [],
      "metadata": {
        "id": "93Bc4bDmX9CV"
      },
      "execution_count": null,
      "outputs": []
    }
  ]
}